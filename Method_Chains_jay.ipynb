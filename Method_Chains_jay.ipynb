{
  "nbformat": 4,
  "nbformat_minor": 0,
  "metadata": {
    "colab": {
      "provenance": []
    },
    "kernelspec": {
      "name": "python3",
      "display_name": "Python 3"
    },
    "language_info": {
      "name": "python"
    }
  },
  "cells": [
    {
      "cell_type": "code",
      "execution_count": null,
      "metadata": {
        "colab": {
          "base_uri": "https://localhost:8080/"
        },
        "id": "1LmHJA2IOHrY",
        "outputId": "cd2147d3-9a4e-49e2-d962-05aa3b1a2a1f"
      },
      "outputs": [
        {
          "output_type": "stream",
          "name": "stdout",
          "text": [
            "--2024-04-15 18:36:14--  https://calmcode.io/static/data/pokemon.json\n",
            "Resolving calmcode.io (calmcode.io)... 172.66.0.96, 162.159.140.98, 2606:4700:7::60, ...\n",
            "Connecting to calmcode.io (calmcode.io)|172.66.0.96|:443... connected.\n",
            "HTTP request sent, awaiting response... 200 OK\n",
            "Length: 59991 (59K) [application/json]\n",
            "Saving to: ‘pokemon.json’\n",
            "\n",
            "pokemon.json        100%[===================>]  58.58K  --.-KB/s    in 0s      \n",
            "\n",
            "2024-04-15 18:36:15 (141 MB/s) - ‘pokemon.json’ saved [59991/59991]\n",
            "\n"
          ]
        }
      ],
      "source": [
        "!wget https://calmcode.io/static/data/pokemon.json"
      ]
    },
    {
      "cell_type": "markdown",
      "source": [
        "The dataset was acquired from the internet and submitted to the Google Colab runtime.\n",
        "\n"
      ],
      "metadata": {
        "id": "21V31RCsteYy"
      }
    },
    {
      "cell_type": "code",
      "source": [
        "import json\n",
        "import pathlib\n",
        "\n",
        "file_path = 'pokemon.json'\n",
        "\n",
        "with open(file_path, 'r') as file:\n",
        "    poke_dict = json.load(file)\n"
      ],
      "metadata": {
        "id": "gP3nWJ41DJ8T"
      },
      "execution_count": null,
      "outputs": []
    },
    {
      "cell_type": "code",
      "source": [
        "poke_dict[:4]"
      ],
      "metadata": {
        "colab": {
          "base_uri": "https://localhost:8080/"
        },
        "id": "CCZ5kExfEDYb",
        "outputId": "d5d3ae00-d6dc-41d3-c221-eb34fdf3d7f5"
      },
      "execution_count": null,
      "outputs": [
        {
          "output_type": "execute_result",
          "data": {
            "text/plain": [
              "[{'name': 'Bulbasaur',\n",
              "  'type': ['Grass', 'Poison'],\n",
              "  'total': 318,\n",
              "  'hp': 45,\n",
              "  'attack': 49},\n",
              " {'name': 'Ivysaur',\n",
              "  'type': ['Grass', 'Poison'],\n",
              "  'total': 405,\n",
              "  'hp': 60,\n",
              "  'attack': 62},\n",
              " {'name': 'Venusaur',\n",
              "  'type': ['Grass', 'Poison'],\n",
              "  'total': 525,\n",
              "  'hp': 80,\n",
              "  'attack': 82},\n",
              " {'name': 'VenusaurMega Venusaur',\n",
              "  'type': ['Grass', 'Poison'],\n",
              "  'total': 625,\n",
              "  'hp': 80,\n",
              "  'attack': 100}]"
            ]
          },
          "metadata": {},
          "execution_count": 9
        }
      ]
    },
    {
      "cell_type": "markdown",
      "source": [
        "The dataset is not in a convenient format as of right now; it is loaded as a list of dictionaries. Numerous properties are present in it, including name, type, total stats, HP, and attack.\n",
        "\n",
        "Let's employ a new, difficult topic called \"Method Chains\" instead of the ineffective pandas module to work with this kind of data. Object-oriented and functional programming are combined in this topic. Working with these kinds of datasets allows for very efficient procedures.\n"
      ],
      "metadata": {
        "id": "E5vL4PJ1ERHa"
      }
    },
    {
      "cell_type": "code",
      "source": [
        "class Clumper:\n",
        "    def __init__(self, blob):\n",
        "        self.blob = blob\n",
        "\n",
        "    def keep(self, func):\n",
        "        return [d for d in self.blob if func(d)]"
      ],
      "metadata": {
        "id": "laDjXGzXFCDw"
      },
      "execution_count": null,
      "outputs": []
    },
    {
      "cell_type": "code",
      "source": [
        "Clumper(poke_dict).keep(lambda d: 'Dragon' in d['type'])"
      ],
      "metadata": {
        "colab": {
          "base_uri": "https://localhost:8080/"
        },
        "id": "KEheSTNgGQY0",
        "outputId": "e35b4e27-63ed-47cd-adb4-7f90c5c7a6f8"
      },
      "execution_count": null,
      "outputs": [
        {
          "output_type": "execute_result",
          "data": {
            "text/plain": [
              "[{'name': 'CharizardMega Charizard X',\n",
              "  'type': ['Fire', 'Dragon'],\n",
              "  'total': 634,\n",
              "  'hp': 78,\n",
              "  'attack': 130},\n",
              " {'name': 'Dratini', 'type': ['Dragon'], 'total': 300, 'hp': 41, 'attack': 64},\n",
              " {'name': 'Dragonair',\n",
              "  'type': ['Dragon'],\n",
              "  'total': 420,\n",
              "  'hp': 61,\n",
              "  'attack': 84},\n",
              " {'name': 'Dragonite',\n",
              "  'type': ['Dragon', 'Flying'],\n",
              "  'total': 600,\n",
              "  'hp': 91,\n",
              "  'attack': 134},\n",
              " {'name': 'AmpharosMega Ampharos',\n",
              "  'type': ['Electric', 'Dragon'],\n",
              "  'total': 610,\n",
              "  'hp': 90,\n",
              "  'attack': 95},\n",
              " {'name': 'Kingdra',\n",
              "  'type': ['Water', 'Dragon'],\n",
              "  'total': 540,\n",
              "  'hp': 75,\n",
              "  'attack': 95},\n",
              " {'name': 'SceptileMega Sceptile',\n",
              "  'type': ['Grass', 'Dragon'],\n",
              "  'total': 630,\n",
              "  'hp': 70,\n",
              "  'attack': 110},\n",
              " {'name': 'Vibrava',\n",
              "  'type': ['Ground', 'Dragon'],\n",
              "  'total': 340,\n",
              "  'hp': 50,\n",
              "  'attack': 70},\n",
              " {'name': 'Flygon',\n",
              "  'type': ['Ground', 'Dragon'],\n",
              "  'total': 520,\n",
              "  'hp': 80,\n",
              "  'attack': 100},\n",
              " {'name': 'Altaria',\n",
              "  'type': ['Dragon', 'Flying'],\n",
              "  'total': 490,\n",
              "  'hp': 75,\n",
              "  'attack': 70},\n",
              " {'name': 'AltariaMega Altaria',\n",
              "  'type': ['Dragon', 'Fairy'],\n",
              "  'total': 590,\n",
              "  'hp': 75,\n",
              "  'attack': 110},\n",
              " {'name': 'Bagon', 'type': ['Dragon'], 'total': 300, 'hp': 45, 'attack': 75},\n",
              " {'name': 'Shelgon', 'type': ['Dragon'], 'total': 420, 'hp': 65, 'attack': 95},\n",
              " {'name': 'Salamence',\n",
              "  'type': ['Dragon', 'Flying'],\n",
              "  'total': 600,\n",
              "  'hp': 95,\n",
              "  'attack': 135},\n",
              " {'name': 'SalamenceMega Salamence',\n",
              "  'type': ['Dragon', 'Flying'],\n",
              "  'total': 700,\n",
              "  'hp': 95,\n",
              "  'attack': 145},\n",
              " {'name': 'Latias',\n",
              "  'type': ['Dragon', 'Psychic'],\n",
              "  'total': 600,\n",
              "  'hp': 80,\n",
              "  'attack': 80},\n",
              " {'name': 'LatiasMega Latias',\n",
              "  'type': ['Dragon', 'Psychic'],\n",
              "  'total': 700,\n",
              "  'hp': 80,\n",
              "  'attack': 100},\n",
              " {'name': 'Latios',\n",
              "  'type': ['Dragon', 'Psychic'],\n",
              "  'total': 600,\n",
              "  'hp': 80,\n",
              "  'attack': 90},\n",
              " {'name': 'LatiosMega Latios',\n",
              "  'type': ['Dragon', 'Psychic'],\n",
              "  'total': 700,\n",
              "  'hp': 80,\n",
              "  'attack': 130},\n",
              " {'name': 'Rayquaza',\n",
              "  'type': ['Dragon', 'Flying'],\n",
              "  'total': 680,\n",
              "  'hp': 105,\n",
              "  'attack': 150},\n",
              " {'name': 'RayquazaMega Rayquaza',\n",
              "  'type': ['Dragon', 'Flying'],\n",
              "  'total': 780,\n",
              "  'hp': 105,\n",
              "  'attack': 180},\n",
              " {'name': 'Gible',\n",
              "  'type': ['Dragon', 'Ground'],\n",
              "  'total': 300,\n",
              "  'hp': 58,\n",
              "  'attack': 70},\n",
              " {'name': 'Gabite',\n",
              "  'type': ['Dragon', 'Ground'],\n",
              "  'total': 410,\n",
              "  'hp': 68,\n",
              "  'attack': 90},\n",
              " {'name': 'Garchomp',\n",
              "  'type': ['Dragon', 'Ground'],\n",
              "  'total': 600,\n",
              "  'hp': 108,\n",
              "  'attack': 130},\n",
              " {'name': 'GarchompMega Garchomp',\n",
              "  'type': ['Dragon', 'Ground'],\n",
              "  'total': 700,\n",
              "  'hp': 108,\n",
              "  'attack': 170},\n",
              " {'name': 'Dialga',\n",
              "  'type': ['Steel', 'Dragon'],\n",
              "  'total': 680,\n",
              "  'hp': 100,\n",
              "  'attack': 120},\n",
              " {'name': 'Palkia',\n",
              "  'type': ['Water', 'Dragon'],\n",
              "  'total': 680,\n",
              "  'hp': 90,\n",
              "  'attack': 120},\n",
              " {'name': 'GiratinaAltered Forme',\n",
              "  'type': ['Ghost', 'Dragon'],\n",
              "  'total': 680,\n",
              "  'hp': 150,\n",
              "  'attack': 100},\n",
              " {'name': 'GiratinaOrigin Forme',\n",
              "  'type': ['Ghost', 'Dragon'],\n",
              "  'total': 680,\n",
              "  'hp': 150,\n",
              "  'attack': 120},\n",
              " {'name': 'Axew', 'type': ['Dragon'], 'total': 320, 'hp': 46, 'attack': 87},\n",
              " {'name': 'Fraxure',\n",
              "  'type': ['Dragon'],\n",
              "  'total': 410,\n",
              "  'hp': 66,\n",
              "  'attack': 117},\n",
              " {'name': 'Haxorus',\n",
              "  'type': ['Dragon'],\n",
              "  'total': 540,\n",
              "  'hp': 76,\n",
              "  'attack': 147},\n",
              " {'name': 'Druddigon',\n",
              "  'type': ['Dragon'],\n",
              "  'total': 485,\n",
              "  'hp': 77,\n",
              "  'attack': 120},\n",
              " {'name': 'Deino',\n",
              "  'type': ['Dark', 'Dragon'],\n",
              "  'total': 300,\n",
              "  'hp': 52,\n",
              "  'attack': 65},\n",
              " {'name': 'Zweilous',\n",
              "  'type': ['Dark', 'Dragon'],\n",
              "  'total': 420,\n",
              "  'hp': 72,\n",
              "  'attack': 85},\n",
              " {'name': 'Hydreigon',\n",
              "  'type': ['Dark', 'Dragon'],\n",
              "  'total': 600,\n",
              "  'hp': 92,\n",
              "  'attack': 105},\n",
              " {'name': 'Reshiram',\n",
              "  'type': ['Dragon', 'Fire'],\n",
              "  'total': 680,\n",
              "  'hp': 100,\n",
              "  'attack': 120},\n",
              " {'name': 'Zekrom',\n",
              "  'type': ['Dragon', 'Electric'],\n",
              "  'total': 680,\n",
              "  'hp': 100,\n",
              "  'attack': 150},\n",
              " {'name': 'Kyurem',\n",
              "  'type': ['Dragon', 'Ice'],\n",
              "  'total': 660,\n",
              "  'hp': 125,\n",
              "  'attack': 130},\n",
              " {'name': 'KyuremBlack Kyurem',\n",
              "  'type': ['Dragon', 'Ice'],\n",
              "  'total': 700,\n",
              "  'hp': 125,\n",
              "  'attack': 170},\n",
              " {'name': 'KyuremWhite Kyurem',\n",
              "  'type': ['Dragon', 'Ice'],\n",
              "  'total': 700,\n",
              "  'hp': 125,\n",
              "  'attack': 120},\n",
              " {'name': 'Dragalge',\n",
              "  'type': ['Poison', 'Dragon'],\n",
              "  'total': 494,\n",
              "  'hp': 65,\n",
              "  'attack': 75},\n",
              " {'name': 'Tyrunt',\n",
              "  'type': ['Rock', 'Dragon'],\n",
              "  'total': 362,\n",
              "  'hp': 58,\n",
              "  'attack': 89},\n",
              " {'name': 'Tyrantrum',\n",
              "  'type': ['Rock', 'Dragon'],\n",
              "  'total': 521,\n",
              "  'hp': 82,\n",
              "  'attack': 121},\n",
              " {'name': 'Goomy', 'type': ['Dragon'], 'total': 300, 'hp': 45, 'attack': 50},\n",
              " {'name': 'Sliggoo', 'type': ['Dragon'], 'total': 452, 'hp': 68, 'attack': 75},\n",
              " {'name': 'Goodra', 'type': ['Dragon'], 'total': 600, 'hp': 90, 'attack': 100},\n",
              " {'name': 'Noibat',\n",
              "  'type': ['Flying', 'Dragon'],\n",
              "  'total': 245,\n",
              "  'hp': 40,\n",
              "  'attack': 30},\n",
              " {'name': 'Noivern',\n",
              "  'type': ['Flying', 'Dragon'],\n",
              "  'total': 535,\n",
              "  'hp': 85,\n",
              "  'attack': 70},\n",
              " {'name': 'Zygarde50% Forme',\n",
              "  'type': ['Dragon', 'Ground'],\n",
              "  'total': 600,\n",
              "  'hp': 108,\n",
              "  'attack': 100}]"
            ]
          },
          "metadata": {},
          "execution_count": 11
        }
      ]
    },
    {
      "cell_type": "markdown",
      "source": [
        "The flexibility of this Clumper class allows us to evaluate and filter the data in accordance with our needs or preferences. The dataset will be used as input, and the desired list will be returned as the result.\n",
        "\n",
        "Suppose we wish to extract only the \"dragon\" type pokemon from the dataset in order to deal with them exclusively. With the aforementioned code, we can accomplish it.\n",
        "\n",
        "Without even writing the function, we are applying the condition using the topic of \"Lambda\" functions.\n",
        "\n",
        "There you have it, a list of every Pokémon of the dragon type. While everything appears to be in order, there is one problem.\n",
        "\n",
        "The lists are returned as output by the retain method, so we are unable to apply additional filtering to the list because data is a list and the maintain method cannot be used to it. Now let's try changing the code to retrieve the output as a Clumper object, which will allow us to apply as many keep methods as possible on top of it to obtain precise data that has undergone numerous filters.\n"
      ],
      "metadata": {
        "id": "JIAflvaeFqZS"
      }
    },
    {
      "cell_type": "code",
      "source": [
        "class Clumper:\n",
        "    def __init__(self, blob):\n",
        "        self.blob = blob\n",
        "\n",
        "    def keep(self, func):\n",
        "        return Clumper([d for d in self.blob if func(d)])"
      ],
      "metadata": {
        "id": "UYUJQAWIGOLA"
      },
      "execution_count": null,
      "outputs": []
    },
    {
      "cell_type": "code",
      "source": [
        "(Clumper(poke_dict)\n",
        "  .keep(lambda d: 'Dragon' in d['type'])\n",
        "  .keep(lambda d: d['hp'] > 100)\n",
        "  .blob)"
      ],
      "metadata": {
        "colab": {
          "base_uri": "https://localhost:8080/"
        },
        "id": "WqhoNnaAIAhl",
        "outputId": "784154c7-384d-483c-9e73-12d5285dee82"
      },
      "execution_count": null,
      "outputs": [
        {
          "output_type": "execute_result",
          "data": {
            "text/plain": [
              "[{'name': 'Rayquaza',\n",
              "  'type': ['Dragon', 'Flying'],\n",
              "  'total': 680,\n",
              "  'hp': 105,\n",
              "  'attack': 150},\n",
              " {'name': 'RayquazaMega Rayquaza',\n",
              "  'type': ['Dragon', 'Flying'],\n",
              "  'total': 780,\n",
              "  'hp': 105,\n",
              "  'attack': 180},\n",
              " {'name': 'Garchomp',\n",
              "  'type': ['Dragon', 'Ground'],\n",
              "  'total': 600,\n",
              "  'hp': 108,\n",
              "  'attack': 130},\n",
              " {'name': 'GarchompMega Garchomp',\n",
              "  'type': ['Dragon', 'Ground'],\n",
              "  'total': 700,\n",
              "  'hp': 108,\n",
              "  'attack': 170},\n",
              " {'name': 'GiratinaAltered Forme',\n",
              "  'type': ['Ghost', 'Dragon'],\n",
              "  'total': 680,\n",
              "  'hp': 150,\n",
              "  'attack': 100},\n",
              " {'name': 'GiratinaOrigin Forme',\n",
              "  'type': ['Ghost', 'Dragon'],\n",
              "  'total': 680,\n",
              "  'hp': 150,\n",
              "  'attack': 120},\n",
              " {'name': 'Kyurem',\n",
              "  'type': ['Dragon', 'Ice'],\n",
              "  'total': 660,\n",
              "  'hp': 125,\n",
              "  'attack': 130},\n",
              " {'name': 'KyuremBlack Kyurem',\n",
              "  'type': ['Dragon', 'Ice'],\n",
              "  'total': 700,\n",
              "  'hp': 125,\n",
              "  'attack': 170},\n",
              " {'name': 'KyuremWhite Kyurem',\n",
              "  'type': ['Dragon', 'Ice'],\n",
              "  'total': 700,\n",
              "  'hp': 125,\n",
              "  'attack': 120},\n",
              " {'name': 'Zygarde50% Forme',\n",
              "  'type': ['Dragon', 'Ground'],\n",
              "  'total': 600,\n",
              "  'hp': 108,\n",
              "  'attack': 100}]"
            ]
          },
          "metadata": {},
          "execution_count": 14
        }
      ]
    },
    {
      "cell_type": "markdown",
      "source": [
        "Compared to the prior code, we made two minor changes here. Rather than providing a list, we return a Clumper object, and we apply methods with conditions in a chain to that object repeatedly.\n",
        "\n",
        "Since the preceding code obtained all of the \"Dragon\" pokemon as a list of dictionaries, we now wish to apply a second condition to further filter the result list. Assume for the moment that I want every dragon Pokemon with an HP of at least 100.\n",
        "\n",
        "Once we applied the two requirements—type must be \"dragon\" and hp must be greater than \"100\"—the aforementioned code provided us with the list.\n",
        "\n",
        "Thus, we can apply several conditions in a chain using this clumper object to provide sophisticated filtering."
      ],
      "metadata": {
        "id": "SobsktCsIK_9"
      }
    },
    {
      "cell_type": "markdown",
      "source": [
        "Although the aforementioned code met our needs, it would still be ideal to apply two criteria on a single line to save time and enhance accuracy when working with large programs that require several conditions.\n",
        "\n",
        "\n",
        "There's a method for it. The code can be changed to become:\n"
      ],
      "metadata": {
        "id": "2ZxJ-OHzLPgH"
      }
    },
    {
      "cell_type": "code",
      "source": [
        "class Clumper:\n",
        "    def __init__(self, blob):\n",
        "        self.blob = blob\n",
        "\n",
        "    def keep(self, *funcs):\n",
        "        data = self.blob\n",
        "        for func in funcs:\n",
        "            data = [d for d in data if func(d)]\n",
        "        return Clumper(data)"
      ],
      "metadata": {
        "id": "1zlHvu6FJnRI"
      },
      "execution_count": null,
      "outputs": []
    },
    {
      "cell_type": "code",
      "source": [
        "(Clumper(poke_dict)\n",
        "  .keep(lambda d: 'Dragon' in d['type'],\n",
        "        lambda d: d['hp'] > 100)\n",
        "  .blob)"
      ],
      "metadata": {
        "colab": {
          "base_uri": "https://localhost:8080/"
        },
        "id": "tOdkig40Lxji",
        "outputId": "d1def49c-5cc3-48a1-d7d6-067b62cbe099"
      },
      "execution_count": null,
      "outputs": [
        {
          "output_type": "execute_result",
          "data": {
            "text/plain": [
              "[{'name': 'Rayquaza',\n",
              "  'type': ['Dragon', 'Flying'],\n",
              "  'total': 680,\n",
              "  'hp': 105,\n",
              "  'attack': 150},\n",
              " {'name': 'RayquazaMega Rayquaza',\n",
              "  'type': ['Dragon', 'Flying'],\n",
              "  'total': 780,\n",
              "  'hp': 105,\n",
              "  'attack': 180},\n",
              " {'name': 'Garchomp',\n",
              "  'type': ['Dragon', 'Ground'],\n",
              "  'total': 600,\n",
              "  'hp': 108,\n",
              "  'attack': 130},\n",
              " {'name': 'GarchompMega Garchomp',\n",
              "  'type': ['Dragon', 'Ground'],\n",
              "  'total': 700,\n",
              "  'hp': 108,\n",
              "  'attack': 170},\n",
              " {'name': 'GiratinaAltered Forme',\n",
              "  'type': ['Ghost', 'Dragon'],\n",
              "  'total': 680,\n",
              "  'hp': 150,\n",
              "  'attack': 100},\n",
              " {'name': 'GiratinaOrigin Forme',\n",
              "  'type': ['Ghost', 'Dragon'],\n",
              "  'total': 680,\n",
              "  'hp': 150,\n",
              "  'attack': 120},\n",
              " {'name': 'Kyurem',\n",
              "  'type': ['Dragon', 'Ice'],\n",
              "  'total': 660,\n",
              "  'hp': 125,\n",
              "  'attack': 130},\n",
              " {'name': 'KyuremBlack Kyurem',\n",
              "  'type': ['Dragon', 'Ice'],\n",
              "  'total': 700,\n",
              "  'hp': 125,\n",
              "  'attack': 170},\n",
              " {'name': 'KyuremWhite Kyurem',\n",
              "  'type': ['Dragon', 'Ice'],\n",
              "  'total': 700,\n",
              "  'hp': 125,\n",
              "  'attack': 120},\n",
              " {'name': 'Zygarde50% Forme',\n",
              "  'type': ['Dragon', 'Ground'],\n",
              "  'total': 600,\n",
              "  'hp': 108,\n",
              "  'attack': 100}]"
            ]
          },
          "metadata": {},
          "execution_count": 16
        }
      ]
    },
    {
      "cell_type": "markdown",
      "source": [
        "Here, we included a '*' before the function name to indicate that we might pass more than one function, and we passed functions in such a way that more than one function could be passed.\n",
        "\n",
        "The list is then updated with the outcomes of the lambda function iterated repeatedly whenever we see fresh data, 'd'.\n",
        "\n",
        "Thus, the method uses the same line of code to iterate twice. The first filtering will be applied initially, followed by a second filtering. Similar to the previous code, we can apply both criteria and perform several filterations in this manner, and we can do so in less lines as well.\n",
        "\n",
        "\n"
      ],
      "metadata": {
        "id": "deJBWeWxPPyS"
      }
    },
    {
      "cell_type": "markdown",
      "source": [
        "Instead of obtaining the data from the top or bottom with filters, we are obtaining it from the initial source and that too in the dataset order.\n",
        "\n",
        "The head and tails methods can be used for that.\n",
        "Let's look at the actual example.\n"
      ],
      "metadata": {
        "id": "-W_KVWMcQjGN"
      }
    },
    {
      "cell_type": "code",
      "source": [
        "class Clumper:\n",
        "    def __init__(self, blob):\n",
        "        self.blob = blob\n",
        "\n",
        "    def keep(self, *funcs):\n",
        "        data = self.blob\n",
        "        for func in funcs:\n",
        "            data = [d for d in data if func(d)]\n",
        "        return Clumper(data)\n",
        "\n",
        "    def head(self, n):\n",
        "        return Clumper([self.blob[i] for i in range(n)])\n",
        "\n",
        "    def tail(self, n):\n",
        "        return Clumper([self.blob[-i] for i in range(1, n+1)])\n"
      ],
      "metadata": {
        "id": "DggRhrPoQXIn"
      },
      "execution_count": null,
      "outputs": []
    },
    {
      "cell_type": "code",
      "source": [
        "(Clumper(poke_dict)\n",
        "  .keep(lambda d: 'Dragon' in d['type'],\n",
        "        lambda d: d['hp'] > 100)\n",
        "  .head(10)\n",
        "  .tail(10)\n",
        "  .blob)"
      ],
      "metadata": {
        "colab": {
          "base_uri": "https://localhost:8080/"
        },
        "id": "09XHFQQrRLTj",
        "outputId": "0e80ad68-a87d-4361-9ad9-055911a869f4"
      },
      "execution_count": null,
      "outputs": [
        {
          "output_type": "execute_result",
          "data": {
            "text/plain": [
              "[{'name': 'Zygarde50% Forme',\n",
              "  'type': ['Dragon', 'Ground'],\n",
              "  'total': 600,\n",
              "  'hp': 108,\n",
              "  'attack': 100},\n",
              " {'name': 'KyuremWhite Kyurem',\n",
              "  'type': ['Dragon', 'Ice'],\n",
              "  'total': 700,\n",
              "  'hp': 125,\n",
              "  'attack': 120},\n",
              " {'name': 'KyuremBlack Kyurem',\n",
              "  'type': ['Dragon', 'Ice'],\n",
              "  'total': 700,\n",
              "  'hp': 125,\n",
              "  'attack': 170},\n",
              " {'name': 'Kyurem',\n",
              "  'type': ['Dragon', 'Ice'],\n",
              "  'total': 660,\n",
              "  'hp': 125,\n",
              "  'attack': 130},\n",
              " {'name': 'GiratinaOrigin Forme',\n",
              "  'type': ['Ghost', 'Dragon'],\n",
              "  'total': 680,\n",
              "  'hp': 150,\n",
              "  'attack': 120},\n",
              " {'name': 'GiratinaAltered Forme',\n",
              "  'type': ['Ghost', 'Dragon'],\n",
              "  'total': 680,\n",
              "  'hp': 150,\n",
              "  'attack': 100},\n",
              " {'name': 'GarchompMega Garchomp',\n",
              "  'type': ['Dragon', 'Ground'],\n",
              "  'total': 700,\n",
              "  'hp': 108,\n",
              "  'attack': 170},\n",
              " {'name': 'Garchomp',\n",
              "  'type': ['Dragon', 'Ground'],\n",
              "  'total': 600,\n",
              "  'hp': 108,\n",
              "  'attack': 130},\n",
              " {'name': 'RayquazaMega Rayquaza',\n",
              "  'type': ['Dragon', 'Flying'],\n",
              "  'total': 780,\n",
              "  'hp': 105,\n",
              "  'attack': 180},\n",
              " {'name': 'Rayquaza',\n",
              "  'type': ['Dragon', 'Flying'],\n",
              "  'total': 680,\n",
              "  'hp': 105,\n",
              "  'attack': 150}]"
            ]
          },
          "metadata": {},
          "execution_count": 19
        }
      ]
    },
    {
      "cell_type": "markdown",
      "source": [
        "Using the head method, the above code yielded the top 10 items from the list, and the tail function yielded the bottom 10 items.\n"
      ],
      "metadata": {
        "id": "6CLPNDxcRXAw"
      }
    },
    {
      "cell_type": "code",
      "source": [
        "class Clumper:\n",
        "    def __init__(self, blob):\n",
        "        self.blob = blob\n",
        "\n",
        "    def keep(self, *funcs):\n",
        "        data = self.blob\n",
        "        for func in funcs:\n",
        "            data = [d for d in data if func(d)]\n",
        "        return Clumper(data)\n",
        "\n",
        "    def head(self, n):\n",
        "        return Clumper([self.blob[i] for i in range(n)])\n",
        "\n",
        "    def tail(self, n):\n",
        "        return Clumper([self.blob[-i] for i in range(1, n+1)])\n",
        "\n",
        "    def select(self, *keys):\n",
        "        return Clumper([{k: d[k] for k in keys} for d in self.blob])"
      ],
      "metadata": {
        "id": "YIsKtrMLRkg3"
      },
      "execution_count": null,
      "outputs": []
    },
    {
      "cell_type": "code",
      "source": [
        "(Clumper(poke_dict)\n",
        "  .keep(lambda d: 'Dragon' in d['type'],\n",
        "        lambda d: d['hp'] > 100)\n",
        "  .select('name', 'hp')\n",
        "  .head(10)\n",
        "  .blob)"
      ],
      "metadata": {
        "colab": {
          "base_uri": "https://localhost:8080/"
        },
        "id": "Fyn-Q2__R8NO",
        "outputId": "42ec4a49-af09-4e07-b62b-b26f6ba4db88"
      },
      "execution_count": null,
      "outputs": [
        {
          "output_type": "execute_result",
          "data": {
            "text/plain": [
              "[{'name': 'Rayquaza', 'hp': 105},\n",
              " {'name': 'RayquazaMega Rayquaza', 'hp': 105},\n",
              " {'name': 'Garchomp', 'hp': 108},\n",
              " {'name': 'GarchompMega Garchomp', 'hp': 108},\n",
              " {'name': 'GiratinaAltered Forme', 'hp': 150},\n",
              " {'name': 'GiratinaOrigin Forme', 'hp': 150},\n",
              " {'name': 'Kyurem', 'hp': 125},\n",
              " {'name': 'KyuremBlack Kyurem', 'hp': 125},\n",
              " {'name': 'KyuremWhite Kyurem', 'hp': 125},\n",
              " {'name': 'Zygarde50% Forme', 'hp': 108}]"
            ]
          },
          "metadata": {},
          "execution_count": 22
        }
      ]
    },
    {
      "cell_type": "markdown",
      "source": [
        "In addition to altering the elements' order, we may use the select method to obtain the columns we need.\n",
        "\n",
        "By indicating the keys we desire and adhering to the same principle as before, iterating repeatedly as we see the circumstances, it operates by utilizing dictionary comprehension.\n"
      ],
      "metadata": {
        "id": "AzsikvlnSGdZ"
      }
    },
    {
      "cell_type": "code",
      "source": [
        "class Clumper:\n",
        "    def __init__(self, blob):\n",
        "        self.blob = blob\n",
        "\n",
        "    def keep(self, *funcs):\n",
        "        data = self.blob\n",
        "        for func in funcs:\n",
        "            data = [d for d in data if func(d)]\n",
        "        return Clumper(data)\n",
        "\n",
        "    def head(self, n):\n",
        "        return Clumper([self.blob[i] for i in range(n)])\n",
        "\n",
        "    def tail(self, n):\n",
        "        return Clumper([self.blob[-i] for i in range(1, n+1)])\n",
        "\n",
        "    def select(self, *keys):\n",
        "        return Clumper([{k: d[k] for k in keys} for d in self.blob])\n",
        "\n",
        "    def mutate(self, **kwargs):\n",
        "      data = self.blob\n",
        "      for key, func in kwargs.items():\n",
        "          for i in range(len(data)):\n",
        "              data[i][key] = func(data[i])\n",
        "      return Clumper(data)"
      ],
      "metadata": {
        "id": "_r7ILbEkSf5Q"
      },
      "execution_count": null,
      "outputs": []
    },
    {
      "cell_type": "code",
      "source": [
        "(Clumper(poke_dict)\n",
        "  .keep(lambda d: 'Dragon' in d['type'],\n",
        "        lambda d: d['hp'] > 100)\n",
        "  .select('name', 'hp')\n",
        "  .mutate(hp = lambda d: d['hp'] * 2,\n",
        "          hp4 = lambda d: d['hp'] * 4)\n",
        "  .blob)"
      ],
      "metadata": {
        "colab": {
          "base_uri": "https://localhost:8080/"
        },
        "id": "-4YZSbnDTGuT",
        "outputId": "a1ad4a09-8cae-44ed-8188-23fd66ed2029"
      },
      "execution_count": null,
      "outputs": [
        {
          "output_type": "execute_result",
          "data": {
            "text/plain": [
              "[{'name': 'Rayquaza', 'hp': 210, 'hp4': 840},\n",
              " {'name': 'RayquazaMega Rayquaza', 'hp': 210, 'hp4': 840},\n",
              " {'name': 'Garchomp', 'hp': 216, 'hp4': 864},\n",
              " {'name': 'GarchompMega Garchomp', 'hp': 216, 'hp4': 864},\n",
              " {'name': 'GiratinaAltered Forme', 'hp': 300, 'hp4': 1200},\n",
              " {'name': 'GiratinaOrigin Forme', 'hp': 300, 'hp4': 1200},\n",
              " {'name': 'Kyurem', 'hp': 250, 'hp4': 1000},\n",
              " {'name': 'KyuremBlack Kyurem', 'hp': 250, 'hp4': 1000},\n",
              " {'name': 'KyuremWhite Kyurem', 'hp': 250, 'hp4': 1000},\n",
              " {'name': 'Zygarde50% Forme', 'hp': 216, 'hp4': 864}]"
            ]
          },
          "metadata": {},
          "execution_count": 24
        }
      ]
    },
    {
      "cell_type": "markdown",
      "source": [
        "We are allowing the user to add new columns to the dataset or override already-existing ones in the code demonstration above.\n",
        "\n",
        "Without affecting functionality, we may even have functions tell the user how things are done in a methodical manner.\n",
        "\n",
        "Now, for each key and function in the items, we are taking data, passing it to the function, and storing it in the data segment of the keys. The name and HP are passed to the method as kwargs arguments. then the Clumper object will be returned. This is how the mutate method's code looks.\n",
        "\n",
        "New HP columns are being added, with the value of each column being doubled and quadrupled in HP4.\n"
      ],
      "metadata": {
        "id": "og8UUvcGTNGW"
      }
    },
    {
      "cell_type": "code",
      "source": [
        "class Clumper:\n",
        "    def __init__(self, blob):\n",
        "        self.blob = blob\n",
        "\n",
        "    def keep(self, *funcs):\n",
        "        data = self.blob\n",
        "        for func in funcs:\n",
        "            data = [d for d in data if func(d)]\n",
        "        return Clumper(data)\n",
        "\n",
        "    def head(self, n):\n",
        "        return Clumper([self.blob[i] for i in range(n)])\n",
        "\n",
        "    def tail(self, n):\n",
        "        return Clumper([self.blob[-i] for i in range(1, n+1)])\n",
        "\n",
        "    def select(self, *keys):\n",
        "        return Clumper([{k: d[k] for k in keys} for d in self.blob])\n",
        "\n",
        "    def mutate(self, **kwargs):\n",
        "        data = self.blob\n",
        "        for key, func in kwargs.items():\n",
        "            for i in range(len(data)):\n",
        "                data[i][key] = func(data[i])\n",
        "        return Clumper(data)\n",
        "\n",
        "    def sort(self, key, reverse=False):\n",
        "        return Clumper(sorted(self.blob, key=key, reverse=reverse))\n"
      ],
      "metadata": {
        "id": "BGgvNvqWUbRt"
      },
      "execution_count": null,
      "outputs": []
    },
    {
      "cell_type": "code",
      "source": [
        "(Clumper(poke_dict)\n",
        "    .keep(lambda d: 'Dragon' in d['type'],\n",
        "          lambda d: d['hp'] > 100)\n",
        "    .select('name', 'hp')\n",
        "    .sort(lambda d: d['hp'], reverse=True)\n",
        "    .blob)\n"
      ],
      "metadata": {
        "colab": {
          "base_uri": "https://localhost:8080/"
        },
        "id": "Qj7UZ7acUnTk",
        "outputId": "b8cb458d-a5d1-4a80-91fc-97f7c40098ee"
      },
      "execution_count": null,
      "outputs": [
        {
          "output_type": "execute_result",
          "data": {
            "text/plain": [
              "[{'name': 'GiratinaAltered Forme', 'hp': 150},\n",
              " {'name': 'GiratinaOrigin Forme', 'hp': 150},\n",
              " {'name': 'Kyurem', 'hp': 125},\n",
              " {'name': 'KyuremBlack Kyurem', 'hp': 125},\n",
              " {'name': 'KyuremWhite Kyurem', 'hp': 125},\n",
              " {'name': 'Garchomp', 'hp': 108},\n",
              " {'name': 'GarchompMega Garchomp', 'hp': 108},\n",
              " {'name': 'Zygarde50% Forme', 'hp': 108},\n",
              " {'name': 'Rayquaza', 'hp': 105},\n",
              " {'name': 'RayquazaMega Rayquaza', 'hp': 105}]"
            ]
          },
          "metadata": {},
          "execution_count": 26
        }
      ]
    },
    {
      "cell_type": "markdown",
      "source": [
        "As we can see by now, the object-oriented technique and the function approach were coupled to produce the intended results.\n",
        "\n",
        "Even the tuples can now be sorted. We can now sort the initial members of the tuple since we have generic functions in Python and have implemented sorting into the code.\n",
        "\n",
        "We must apply the idea of lambda functions if we wish to carry out the same sorting on the second members of the tuple. After assigning a value to each key in the tuple, we pass the lambda function to them and apply the logic.\n",
        "\n",
        "Like before, we can use functions to define what we do and how we do it.\n"
      ],
      "metadata": {
        "id": "cPExRrDMUpsc"
      }
    },
    {
      "cell_type": "code",
      "source": [
        "class Clumper:\n",
        "    def __init__(self, blob):\n",
        "        self.blob = blob\n",
        "\n",
        "    def keep(self, *funcs):\n",
        "        data = self.blob\n",
        "        for func in funcs:\n",
        "            data = [d for d in data if func(d)]\n",
        "        return Clumper(data)\n",
        "\n",
        "    def head(self, n):\n",
        "        return Clumper([self.blob[i] for i in range(n)])\n",
        "\n",
        "    def tail(self, n):\n",
        "        return Clumper([self.blob[-i] for i in range(1, n+1)])\n",
        "\n",
        "    def select(self, *keys):\n",
        "        return Clumper([{k: d[k] for k in keys} for d in self.blob])\n",
        "\n",
        "    def mutate(self, **kwargs):\n",
        "        data = self.blob\n",
        "        for key, func in kwargs.items():\n",
        "            for i in range(len(data)):\n",
        "                data[i][key] = func(data[i])\n",
        "        return Clumper(data)\n",
        "\n",
        "    def sort(self, key, reverse=False):\n",
        "        return Clumper(sorted(self.blob, key=key, reverse=reverse))"
      ],
      "metadata": {
        "id": "FpC1XCAJV2oc"
      },
      "execution_count": null,
      "outputs": []
    },
    {
      "cell_type": "code",
      "source": [
        "(Clumper(poke_dict)\n",
        "  .keep(lambda d: 'Grass' in d['type'],\n",
        "        lambda d: d['hp'] < 60)\n",
        "  .mutate(ratio=lambda d: d['attack']/d['hp'])\n",
        "  .select('name', 'ratio')\n",
        "  .sort(lambda d: d['ratio'], reverse=True)\n",
        "  .head(15)\n",
        "  .blob)"
      ],
      "metadata": {
        "id": "wHrJqyBHV-Wl"
      },
      "execution_count": null,
      "outputs": []
    },
    {
      "cell_type": "markdown",
      "source": [
        "It's easy to make changes to the analysis here because the reading is from left to right top to bottom. We can change the order of lines which will change the order of the code which makes it easy to reason about the steps that are being applied to our data.\n",
        "\n",
        "Model Chains API is much more powerful and flexible than traditional pandas module to even perform any changes with specifying the changes with the help of functions. We can even improve speed further by workinh on this module. It can even perfrom better and exceed limitations of pandas and python."
      ],
      "metadata": {
        "id": "CYT8A4lGWAN8"
      }
    }
  ]
}